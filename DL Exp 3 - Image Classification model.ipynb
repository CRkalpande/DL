{
 "cells": [
  {
   "cell_type": "code",
   "execution_count": 1,
   "id": "9553db93",
   "metadata": {},
   "outputs": [
    {
     "ename": "ModuleNotFoundError",
     "evalue": "No module named 'tensorflow'",
     "output_type": "error",
     "traceback": [
      "\u001b[1;31m---------------------------------------------------------------------------\u001b[0m",
      "\u001b[1;31mModuleNotFoundError\u001b[0m                       Traceback (most recent call last)",
      "Cell \u001b[1;32mIn [1], line 4\u001b[0m\n\u001b[0;32m      2\u001b[0m \u001b[38;5;28;01mimport\u001b[39;00m \u001b[38;5;21;01mpandas\u001b[39;00m \u001b[38;5;28;01mas\u001b[39;00m \u001b[38;5;21;01mpd\u001b[39;00m\n\u001b[0;32m      3\u001b[0m \u001b[38;5;28;01mimport\u001b[39;00m \u001b[38;5;21;01mrandom\u001b[39;00m\n\u001b[1;32m----> 4\u001b[0m \u001b[38;5;28;01mimport\u001b[39;00m \u001b[38;5;21;01mtensorflow\u001b[39;00m \u001b[38;5;28;01mas\u001b[39;00m \u001b[38;5;21;01mtf\u001b[39;00m\n\u001b[0;32m      5\u001b[0m \u001b[38;5;28;01mimport\u001b[39;00m \u001b[38;5;21;01mmatplotlib\u001b[39;00m\u001b[38;5;21;01m.\u001b[39;00m\u001b[38;5;21;01mpyplot\u001b[39;00m \u001b[38;5;28;01mas\u001b[39;00m \u001b[38;5;21;01mplt\u001b[39;00m\n\u001b[0;32m      6\u001b[0m \u001b[38;5;28;01mfrom\u001b[39;00m \u001b[38;5;21;01msklearn\u001b[39;00m\u001b[38;5;21;01m.\u001b[39;00m\u001b[38;5;21;01mmetrics\u001b[39;00m \u001b[38;5;28;01mimport\u001b[39;00m accuracy_score\n",
      "\u001b[1;31mModuleNotFoundError\u001b[0m: No module named 'tensorflow'"
     ]
    }
   ],
   "source": [
    "import numpy as np\n",
    "import pandas as pd\n",
    "import random\n",
    "import tensorflow as tf\n",
    "import matplotlib.pyplot as plt\n",
    "from sklearn.metrics import accuracy_score\n",
    "\n",
    "from tensorflow.keras.models import Sequential\n",
    "from tensorflow.keras.layers import Flatten, Conv2D, Dense, MaxPooling2D\n",
    "from tensorflow.keras.optimizers import SGD\n",
    "from tensorflow.keras.utils import to_categorical\n",
    "from tensorflow.keras.datasets import mnist"
   ]
  },
  {
   "cell_type": "code",
   "execution_count": null,
   "id": "a36cf47d",
   "metadata": {},
   "outputs": [],
   "source": [
    "(X_train, y_train), (X_test, y_test) = mnist.load_data()"
   ]
  },
  {
   "cell_type": "markdown",
   "id": "a63e3a82",
   "metadata": {},
   "source": []
  },
  {
   "cell_type": "code",
   "execution_count": null,
   "id": "dd1a4724",
   "metadata": {},
   "outputs": [],
   "source": [
    "print(X_train.shape)"
   ]
  },
  {
   "cell_type": "code",
   "execution_count": null,
   "id": "90fd25ae",
   "metadata": {},
   "outputs": [],
   "source": [
    "X_train[0].min(), X_train[0].max()"
   ]
  },
  {
   "cell_type": "code",
   "execution_count": null,
   "id": "2147784c",
   "metadata": {},
   "outputs": [],
   "source": [
    "X_train = (X_train - 0.0) / (255.0 - 0.0)\n",
    "X_test = (X_test - 0.0) / (255.0 - 0.0)\n",
    "X_train[0].min(), X_train[0].max()"
   ]
  },
  {
   "cell_type": "code",
   "execution_count": null,
   "id": "7dc9431f",
   "metadata": {},
   "outputs": [],
   "source": [
    "def plot_digit(image, digit, plt, i):\n",
    "    plt.subplot(4, 5, i + 1)\n",
    "    plt.imshow(image, cmap=plt.get_cmap('gray'))\n",
    "    plt.title(f\"Digit: {digit}\")\n",
    "    plt.xticks([])\n",
    "    plt.yticks([])\n",
    "plt.figure(figsize=(16, 10))\n",
    "for i in range(20):\n",
    "    plot_digit(X_train[i], y_train[i], plt, i)   \n",
    "plt.show()"
   ]
  },
  {
   "cell_type": "code",
   "execution_count": null,
   "id": "ee860352",
   "metadata": {},
   "outputs": [],
   "source": [
    "X_train = X_train.reshape((X_train.shape + (1,)))\n",
    "X_test = X_test.reshape((X_test.shape + (1,)))"
   ]
  },
  {
   "cell_type": "code",
   "execution_count": null,
   "id": "3d5355c5",
   "metadata": {},
   "outputs": [],
   "source": [
    "y_train[0:20]"
   ]
  },
  {
   "cell_type": "code",
   "execution_count": null,
   "id": "b6fbb784",
   "metadata": {},
   "outputs": [],
   "source": [
    "model = Sequential([\n",
    "    Conv2D(32, (3, 3), activation=\"relu\", input_shape=(28, 28, 1)),\n",
    "    MaxPooling2D((2, 2)),\n",
    "    Flatten(),\n",
    "    Dense(100, activation=\"relu\"),\n",
    "    Dense(10, activation=\"softmax\")\n",
    "])"
   ]
  },
  {
   "cell_type": "code",
   "execution_count": null,
   "id": "265fff2c",
   "metadata": {},
   "outputs": [],
   "source": [
    "optimizer = SGD(learning_rate=0.01, momentum=0.9)\n",
    "model.compile(\n",
    "    optimizer=optimizer, \n",
    "    loss=\"sparse_categorical_crossentropy\", \n",
    "    metrics=[\"accuracy\"]\n",
    ")\n",
    "model.summary()"
   ]
  },
  {
   "cell_type": "code",
   "execution_count": null,
   "id": "fdd64086",
   "metadata": {},
   "outputs": [],
   "source": [
    "model.fit(X_train, y_train, epochs=10, batch_size=32)"
   ]
  },
  {
   "cell_type": "code",
   "execution_count": null,
   "id": "b9596919",
   "metadata": {},
   "outputs": [],
   "source": [
    "plt.figure(figsize=(16, 10))\n",
    "for i in range(20):\n",
    "    image = random.choice(X_test).squeeze()\n",
    "    digit = np.argmax(model.predict(image.reshape((1, 28, 28, 1)))[0], axis=-1)\n",
    "    plot_digit(image, digit, plt, i)\n",
    "plt.show()"
   ]
  },
  {
   "cell_type": "code",
   "execution_count": null,
   "id": "1b3faf90",
   "metadata": {},
   "outputs": [],
   "source": [
    "predictions = np.argmax(model.predict(X_test), axis=-1)\n",
    "accuracy_score(y_test, predictions)"
   ]
  },
  {
   "cell_type": "code",
   "execution_count": null,
   "id": "84163a3b",
   "metadata": {},
   "outputs": [],
   "source": [
    "n=random.randint(0,9999)\n",
    "plt.imshow(X_test[n])\n",
    "plt.show()"
   ]
  },
  {
   "cell_type": "code",
   "execution_count": null,
   "id": "6188fb3b",
   "metadata": {},
   "outputs": [],
   "source": [
    "predicted_value=model.predict(X_test)\n",
    "print(\"Handwritten number in the image is= %d\" %np.argmax(predicted_value[n]))"
   ]
  },
  {
   "cell_type": "code",
   "execution_count": null,
   "id": "e1e335b1",
   "metadata": {},
   "outputs": [],
   "source": [
    "score = model.evaluate(X_test, y_test, verbose=0)\n",
    "print('Test loss:', score[0]) #Test loss: 0.0296396646054\n",
    "print('Test accuracy:', score[1])"
   ]
  },
  {
   "cell_type": "code",
   "execution_count": null,
   "id": "84c66639",
   "metadata": {},
   "outputs": [],
   "source": [
    "#The implemented CNN model is giving Loss=0.04624301567673683  and \n",
    "#accuracy: 0.9872000217437744 for test mnist dataset"
   ]
  }
 ],
 "metadata": {
  "kernelspec": {
   "display_name": "Python 3 (ipykernel)",
   "language": "python",
   "name": "python3"
  },
  "language_info": {
   "codemirror_mode": {
    "name": "ipython",
    "version": 3
   },
   "file_extension": ".py",
   "mimetype": "text/x-python",
   "name": "python",
   "nbconvert_exporter": "python",
   "pygments_lexer": "ipython3",
   "version": "3.9.6"
  }
 },
 "nbformat": 4,
 "nbformat_minor": 5
}
